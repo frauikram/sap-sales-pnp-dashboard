{
 "cells": [
  {
   "cell_type": "code",
   "execution_count": 2,
   "id": "7b879f63",
   "metadata": {},
   "outputs": [
    {
     "name": "stdout",
     "output_type": "stream",
     "text": [
      "✅ target_sales_city.csv generated successfully.\n"
     ]
    }
   ],
   "source": [
    "# 📘 Step 1: Load your cleaned sales data\n",
    "import pandas as pd\n",
    "\n",
    "# Load the cleaned CSV file — adjust path if needed\n",
    "df = pd.read_csv('S:/git_repos/sap-sales-pnp-dashboard/data/sales_clean.csv')\n",
    "\n",
    "# 📘 Step 2: Convert 'date' column to datetime format\n",
    "df['date'] = pd.to_datetime(df['date'])\n",
    "\n",
    "# 📘 Step 3: Filter to data from the year 2017 only\n",
    "df_2017 = df[df['date'].dt.year == 2017]\n",
    "\n",
    "# 📘 Step 4: Compute average sales per city\n",
    "avg_sales = df_2017.groupby('city')['sales'].mean().round(2).reset_index()\n",
    "avg_sales.columns = ['city', 'avg_sales']\n",
    "\n",
    "# 📘 Step 5: Add +2 units to simulate planned target\n",
    "avg_sales['target_sales'] = (avg_sales['avg_sales'] + 2).round(2)\n",
    "\n",
    "# 📘 Step 6: Export to CSV\n",
    "avg_sales[['city', 'target_sales']].to_csv('S:/git_repos/sap-sales-pnp-dashboard/data/target_sales_city.csv', index=False)\n",
    "\n",
    "print(\"✅ target_sales_city.csv generated successfully.\")\n"
   ]
  },
  {
   "cell_type": "code",
   "execution_count": null,
   "id": "17a0f7ff",
   "metadata": {},
   "outputs": [],
   "source": []
  }
 ],
 "metadata": {
  "kernelspec": {
   "display_name": "sap-sales-pnp-dashboard-bm_GmfdR",
   "language": "python",
   "name": "python3"
  },
  "language_info": {
   "codemirror_mode": {
    "name": "ipython",
    "version": 3
   },
   "file_extension": ".py",
   "mimetype": "text/x-python",
   "name": "python",
   "nbconvert_exporter": "python",
   "pygments_lexer": "ipython3",
   "version": "3.12.0"
  }
 },
 "nbformat": 4,
 "nbformat_minor": 5
}
